{
 "cells": [
  {
   "cell_type": "markdown",
   "metadata": {},
   "source": [
    "**Import all required packages**"
   ]
  },
  {
   "cell_type": "code",
   "execution_count": 1,
   "metadata": {},
   "outputs": [],
   "source": [
    "import pandas as pd\n",
    "import numpy as np\n",
    "import matplotlib.pyplot as plt"
   ]
  },
  {
   "cell_type": "markdown",
   "metadata": {},
   "source": [
    "**Load the data set**\n",
    "**and find information about it**"
   ]
  },
  {
   "cell_type": "code",
   "execution_count": 7,
   "metadata": {},
   "outputs": [],
   "source": [
    "df = pd.read_csv(\"S:\\\\LPIII\\\\User_price_predition\\\\dataset\\\\uber.csv\")"
   ]
  },
  {
   "cell_type": "markdown",
   "metadata": {},
   "source": [
    "**View the data set**"
   ]
  },
  {
   "cell_type": "code",
   "execution_count": 6,
   "metadata": {},
   "outputs": [
    {
     "data": {
      "text/html": [
       "<div>\n",
       "<style scoped>\n",
       "    .dataframe tbody tr th:only-of-type {\n",
       "        vertical-align: middle;\n",
       "    }\n",
       "\n",
       "    .dataframe tbody tr th {\n",
       "        vertical-align: top;\n",
       "    }\n",
       "\n",
       "    .dataframe thead th {\n",
       "        text-align: right;\n",
       "    }\n",
       "</style>\n",
       "<table border=\"1\" class=\"dataframe\">\n",
       "  <thead>\n",
       "    <tr style=\"text-align: right;\">\n",
       "      <th></th>\n",
       "      <th>Unnamed: 0</th>\n",
       "      <th>key</th>\n",
       "      <th>fare_amount</th>\n",
       "      <th>pickup_datetime</th>\n",
       "      <th>pickup_longitude</th>\n",
       "      <th>pickup_latitude</th>\n",
       "      <th>dropoff_longitude</th>\n",
       "      <th>dropoff_latitude</th>\n",
       "      <th>passenger_count</th>\n",
       "    </tr>\n",
       "  </thead>\n",
       "  <tbody>\n",
       "    <tr>\n",
       "      <th>0</th>\n",
       "      <td>24238194</td>\n",
       "      <td>2015-05-07 19:52:06.0000003</td>\n",
       "      <td>7.5</td>\n",
       "      <td>2015-05-07 19:52:06 UTC</td>\n",
       "      <td>-73.999817</td>\n",
       "      <td>40.738354</td>\n",
       "      <td>-73.999512</td>\n",
       "      <td>40.723217</td>\n",
       "      <td>1</td>\n",
       "    </tr>\n",
       "    <tr>\n",
       "      <th>1</th>\n",
       "      <td>27835199</td>\n",
       "      <td>2009-07-17 20:04:56.0000002</td>\n",
       "      <td>7.7</td>\n",
       "      <td>2009-07-17 20:04:56 UTC</td>\n",
       "      <td>-73.994355</td>\n",
       "      <td>40.728225</td>\n",
       "      <td>-73.994710</td>\n",
       "      <td>40.750325</td>\n",
       "      <td>1</td>\n",
       "    </tr>\n",
       "    <tr>\n",
       "      <th>2</th>\n",
       "      <td>44984355</td>\n",
       "      <td>2009-08-24 21:45:00.00000061</td>\n",
       "      <td>12.9</td>\n",
       "      <td>2009-08-24 21:45:00 UTC</td>\n",
       "      <td>-74.005043</td>\n",
       "      <td>40.740770</td>\n",
       "      <td>-73.962565</td>\n",
       "      <td>40.772647</td>\n",
       "      <td>1</td>\n",
       "    </tr>\n",
       "    <tr>\n",
       "      <th>3</th>\n",
       "      <td>25894730</td>\n",
       "      <td>2009-06-26 08:22:21.0000001</td>\n",
       "      <td>5.3</td>\n",
       "      <td>2009-06-26 08:22:21 UTC</td>\n",
       "      <td>-73.976124</td>\n",
       "      <td>40.790844</td>\n",
       "      <td>-73.965316</td>\n",
       "      <td>40.803349</td>\n",
       "      <td>3</td>\n",
       "    </tr>\n",
       "    <tr>\n",
       "      <th>4</th>\n",
       "      <td>17610152</td>\n",
       "      <td>2014-08-28 17:47:00.000000188</td>\n",
       "      <td>16.0</td>\n",
       "      <td>2014-08-28 17:47:00 UTC</td>\n",
       "      <td>-73.925023</td>\n",
       "      <td>40.744085</td>\n",
       "      <td>-73.973082</td>\n",
       "      <td>40.761247</td>\n",
       "      <td>5</td>\n",
       "    </tr>\n",
       "  </tbody>\n",
       "</table>\n",
       "</div>"
      ],
      "text/plain": [
       "   Unnamed: 0                            key  fare_amount   \n",
       "0    24238194    2015-05-07 19:52:06.0000003          7.5  \\\n",
       "1    27835199    2009-07-17 20:04:56.0000002          7.7   \n",
       "2    44984355   2009-08-24 21:45:00.00000061         12.9   \n",
       "3    25894730    2009-06-26 08:22:21.0000001          5.3   \n",
       "4    17610152  2014-08-28 17:47:00.000000188         16.0   \n",
       "\n",
       "           pickup_datetime  pickup_longitude  pickup_latitude   \n",
       "0  2015-05-07 19:52:06 UTC        -73.999817        40.738354  \\\n",
       "1  2009-07-17 20:04:56 UTC        -73.994355        40.728225   \n",
       "2  2009-08-24 21:45:00 UTC        -74.005043        40.740770   \n",
       "3  2009-06-26 08:22:21 UTC        -73.976124        40.790844   \n",
       "4  2014-08-28 17:47:00 UTC        -73.925023        40.744085   \n",
       "\n",
       "   dropoff_longitude  dropoff_latitude  passenger_count  \n",
       "0         -73.999512         40.723217                1  \n",
       "1         -73.994710         40.750325                1  \n",
       "2         -73.962565         40.772647                1  \n",
       "3         -73.965316         40.803349                3  \n",
       "4         -73.973082         40.761247                5  "
      ]
     },
     "execution_count": 6,
     "metadata": {},
     "output_type": "execute_result"
    }
   ],
   "source": [
    "df.head()"
   ]
  },
  {
   "cell_type": "code",
   "execution_count": 4,
   "metadata": {},
   "outputs": [
    {
     "name": "stdout",
     "output_type": "stream",
     "text": [
      "<class 'pandas.core.frame.DataFrame'>\n",
      "RangeIndex: 200000 entries, 0 to 199999\n",
      "Data columns (total 9 columns):\n",
      " #   Column             Non-Null Count   Dtype  \n",
      "---  ------             --------------   -----  \n",
      " 0   Unnamed: 0         200000 non-null  int64  \n",
      " 1   key                200000 non-null  object \n",
      " 2   fare_amount        200000 non-null  float64\n",
      " 3   pickup_datetime    200000 non-null  object \n",
      " 4   pickup_longitude   200000 non-null  float64\n",
      " 5   pickup_latitude    200000 non-null  float64\n",
      " 6   dropoff_longitude  199999 non-null  float64\n",
      " 7   dropoff_latitude   199999 non-null  float64\n",
      " 8   passenger_count    200000 non-null  int64  \n",
      "dtypes: float64(5), int64(2), object(2)\n",
      "memory usage: 13.7+ MB\n"
     ]
    }
   ],
   "source": [
    "df.info()"
   ]
  },
  {
   "cell_type": "code",
   "execution_count": 5,
   "metadata": {},
   "outputs": [
    {
     "data": {
      "text/plain": [
       "Index(['Unnamed: 0', 'key', 'fare_amount', 'pickup_datetime',\n",
       "       'pickup_longitude', 'pickup_latitude', 'dropoff_longitude',\n",
       "       'dropoff_latitude', 'passenger_count'],\n",
       "      dtype='object')"
      ]
     },
     "execution_count": 5,
     "metadata": {},
     "output_type": "execute_result"
    }
   ],
   "source": [
    "df.columns"
   ]
  },
  {
   "cell_type": "code",
   "execution_count": 7,
   "metadata": {},
   "outputs": [
    {
     "data": {
      "text/html": [
       "<div>\n",
       "<style scoped>\n",
       "    .dataframe tbody tr th:only-of-type {\n",
       "        vertical-align: middle;\n",
       "    }\n",
       "\n",
       "    .dataframe tbody tr th {\n",
       "        vertical-align: top;\n",
       "    }\n",
       "\n",
       "    .dataframe thead th {\n",
       "        text-align: right;\n",
       "    }\n",
       "</style>\n",
       "<table border=\"1\" class=\"dataframe\">\n",
       "  <thead>\n",
       "    <tr style=\"text-align: right;\">\n",
       "      <th></th>\n",
       "      <th>Unnamed: 0</th>\n",
       "      <th>fare_amount</th>\n",
       "      <th>pickup_longitude</th>\n",
       "      <th>pickup_latitude</th>\n",
       "      <th>dropoff_longitude</th>\n",
       "      <th>dropoff_latitude</th>\n",
       "      <th>passenger_count</th>\n",
       "    </tr>\n",
       "  </thead>\n",
       "  <tbody>\n",
       "    <tr>\n",
       "      <th>count</th>\n",
       "      <td>2.000000e+05</td>\n",
       "      <td>200000.000000</td>\n",
       "      <td>200000.000000</td>\n",
       "      <td>200000.000000</td>\n",
       "      <td>199999.000000</td>\n",
       "      <td>199999.000000</td>\n",
       "      <td>200000.000000</td>\n",
       "    </tr>\n",
       "    <tr>\n",
       "      <th>mean</th>\n",
       "      <td>2.771250e+07</td>\n",
       "      <td>11.359955</td>\n",
       "      <td>-72.527638</td>\n",
       "      <td>39.935885</td>\n",
       "      <td>-72.525292</td>\n",
       "      <td>39.923890</td>\n",
       "      <td>1.684535</td>\n",
       "    </tr>\n",
       "    <tr>\n",
       "      <th>std</th>\n",
       "      <td>1.601382e+07</td>\n",
       "      <td>9.901776</td>\n",
       "      <td>11.437787</td>\n",
       "      <td>7.720539</td>\n",
       "      <td>13.117408</td>\n",
       "      <td>6.794829</td>\n",
       "      <td>1.385997</td>\n",
       "    </tr>\n",
       "    <tr>\n",
       "      <th>min</th>\n",
       "      <td>1.000000e+00</td>\n",
       "      <td>-52.000000</td>\n",
       "      <td>-1340.648410</td>\n",
       "      <td>-74.015515</td>\n",
       "      <td>-3356.666300</td>\n",
       "      <td>-881.985513</td>\n",
       "      <td>0.000000</td>\n",
       "    </tr>\n",
       "    <tr>\n",
       "      <th>25%</th>\n",
       "      <td>1.382535e+07</td>\n",
       "      <td>6.000000</td>\n",
       "      <td>-73.992065</td>\n",
       "      <td>40.734796</td>\n",
       "      <td>-73.991407</td>\n",
       "      <td>40.733823</td>\n",
       "      <td>1.000000</td>\n",
       "    </tr>\n",
       "    <tr>\n",
       "      <th>50%</th>\n",
       "      <td>2.774550e+07</td>\n",
       "      <td>8.500000</td>\n",
       "      <td>-73.981823</td>\n",
       "      <td>40.752592</td>\n",
       "      <td>-73.980093</td>\n",
       "      <td>40.753042</td>\n",
       "      <td>1.000000</td>\n",
       "    </tr>\n",
       "    <tr>\n",
       "      <th>75%</th>\n",
       "      <td>4.155530e+07</td>\n",
       "      <td>12.500000</td>\n",
       "      <td>-73.967154</td>\n",
       "      <td>40.767158</td>\n",
       "      <td>-73.963658</td>\n",
       "      <td>40.768001</td>\n",
       "      <td>2.000000</td>\n",
       "    </tr>\n",
       "    <tr>\n",
       "      <th>max</th>\n",
       "      <td>5.542357e+07</td>\n",
       "      <td>499.000000</td>\n",
       "      <td>57.418457</td>\n",
       "      <td>1644.421482</td>\n",
       "      <td>1153.572603</td>\n",
       "      <td>872.697628</td>\n",
       "      <td>208.000000</td>\n",
       "    </tr>\n",
       "  </tbody>\n",
       "</table>\n",
       "</div>"
      ],
      "text/plain": [
       "         Unnamed: 0    fare_amount  pickup_longitude  pickup_latitude   \n",
       "count  2.000000e+05  200000.000000     200000.000000    200000.000000  \\\n",
       "mean   2.771250e+07      11.359955        -72.527638        39.935885   \n",
       "std    1.601382e+07       9.901776         11.437787         7.720539   \n",
       "min    1.000000e+00     -52.000000      -1340.648410       -74.015515   \n",
       "25%    1.382535e+07       6.000000        -73.992065        40.734796   \n",
       "50%    2.774550e+07       8.500000        -73.981823        40.752592   \n",
       "75%    4.155530e+07      12.500000        -73.967154        40.767158   \n",
       "max    5.542357e+07     499.000000         57.418457      1644.421482   \n",
       "\n",
       "       dropoff_longitude  dropoff_latitude  passenger_count  \n",
       "count      199999.000000     199999.000000    200000.000000  \n",
       "mean          -72.525292         39.923890         1.684535  \n",
       "std            13.117408          6.794829         1.385997  \n",
       "min         -3356.666300       -881.985513         0.000000  \n",
       "25%           -73.991407         40.733823         1.000000  \n",
       "50%           -73.980093         40.753042         1.000000  \n",
       "75%           -73.963658         40.768001         2.000000  \n",
       "max          1153.572603        872.697628       208.000000  "
      ]
     },
     "execution_count": 7,
     "metadata": {},
     "output_type": "execute_result"
    }
   ],
   "source": [
    "df.describe()"
   ]
  },
  {
   "cell_type": "markdown",
   "metadata": {},
   "source": [
    "**In this data set the key id and index are not import columns so are going to drop them**"
   ]
  },
  {
   "cell_type": "code",
   "execution_count": 8,
   "metadata": {},
   "outputs": [],
   "source": [
    "df = df.drop(['Unnamed: 0','key'],axis=1)"
   ]
  },
  {
   "cell_type": "markdown",
   "metadata": {},
   "source": [
    "lets check it out"
   ]
  },
  {
   "cell_type": "code",
   "execution_count": 9,
   "metadata": {},
   "outputs": [
    {
     "data": {
      "text/html": [
       "<div>\n",
       "<style scoped>\n",
       "    .dataframe tbody tr th:only-of-type {\n",
       "        vertical-align: middle;\n",
       "    }\n",
       "\n",
       "    .dataframe tbody tr th {\n",
       "        vertical-align: top;\n",
       "    }\n",
       "\n",
       "    .dataframe thead th {\n",
       "        text-align: right;\n",
       "    }\n",
       "</style>\n",
       "<table border=\"1\" class=\"dataframe\">\n",
       "  <thead>\n",
       "    <tr style=\"text-align: right;\">\n",
       "      <th></th>\n",
       "      <th>fare_amount</th>\n",
       "      <th>pickup_datetime</th>\n",
       "      <th>pickup_longitude</th>\n",
       "      <th>pickup_latitude</th>\n",
       "      <th>dropoff_longitude</th>\n",
       "      <th>dropoff_latitude</th>\n",
       "      <th>passenger_count</th>\n",
       "    </tr>\n",
       "  </thead>\n",
       "  <tbody>\n",
       "    <tr>\n",
       "      <th>0</th>\n",
       "      <td>7.5</td>\n",
       "      <td>2015-05-07 19:52:06 UTC</td>\n",
       "      <td>-73.999817</td>\n",
       "      <td>40.738354</td>\n",
       "      <td>-73.999512</td>\n",
       "      <td>40.723217</td>\n",
       "      <td>1</td>\n",
       "    </tr>\n",
       "    <tr>\n",
       "      <th>1</th>\n",
       "      <td>7.7</td>\n",
       "      <td>2009-07-17 20:04:56 UTC</td>\n",
       "      <td>-73.994355</td>\n",
       "      <td>40.728225</td>\n",
       "      <td>-73.994710</td>\n",
       "      <td>40.750325</td>\n",
       "      <td>1</td>\n",
       "    </tr>\n",
       "    <tr>\n",
       "      <th>2</th>\n",
       "      <td>12.9</td>\n",
       "      <td>2009-08-24 21:45:00 UTC</td>\n",
       "      <td>-74.005043</td>\n",
       "      <td>40.740770</td>\n",
       "      <td>-73.962565</td>\n",
       "      <td>40.772647</td>\n",
       "      <td>1</td>\n",
       "    </tr>\n",
       "    <tr>\n",
       "      <th>3</th>\n",
       "      <td>5.3</td>\n",
       "      <td>2009-06-26 08:22:21 UTC</td>\n",
       "      <td>-73.976124</td>\n",
       "      <td>40.790844</td>\n",
       "      <td>-73.965316</td>\n",
       "      <td>40.803349</td>\n",
       "      <td>3</td>\n",
       "    </tr>\n",
       "    <tr>\n",
       "      <th>4</th>\n",
       "      <td>16.0</td>\n",
       "      <td>2014-08-28 17:47:00 UTC</td>\n",
       "      <td>-73.925023</td>\n",
       "      <td>40.744085</td>\n",
       "      <td>-73.973082</td>\n",
       "      <td>40.761247</td>\n",
       "      <td>5</td>\n",
       "    </tr>\n",
       "  </tbody>\n",
       "</table>\n",
       "</div>"
      ],
      "text/plain": [
       "   fare_amount          pickup_datetime  pickup_longitude  pickup_latitude   \n",
       "0          7.5  2015-05-07 19:52:06 UTC        -73.999817        40.738354  \\\n",
       "1          7.7  2009-07-17 20:04:56 UTC        -73.994355        40.728225   \n",
       "2         12.9  2009-08-24 21:45:00 UTC        -74.005043        40.740770   \n",
       "3          5.3  2009-06-26 08:22:21 UTC        -73.976124        40.790844   \n",
       "4         16.0  2014-08-28 17:47:00 UTC        -73.925023        40.744085   \n",
       "\n",
       "   dropoff_longitude  dropoff_latitude  passenger_count  \n",
       "0         -73.999512         40.723217                1  \n",
       "1         -73.994710         40.750325                1  \n",
       "2         -73.962565         40.772647                1  \n",
       "3         -73.965316         40.803349                3  \n",
       "4         -73.973082         40.761247                5  "
      ]
     },
     "execution_count": 9,
     "metadata": {},
     "output_type": "execute_result"
    }
   ],
   "source": [
    "df.head()"
   ]
  },
  {
   "cell_type": "markdown",
   "metadata": {},
   "source": [
    "We find null values and if less in number then simply drop them"
   ]
  },
  {
   "cell_type": "code",
   "execution_count": 13,
   "metadata": {},
   "outputs": [
    {
     "data": {
      "text/plain": [
       "fare_amount          0\n",
       "pickup_datetime      0\n",
       "pickup_longitude     0\n",
       "pickup_latitude      0\n",
       "dropoff_longitude    1\n",
       "dropoff_latitude     1\n",
       "passenger_count      0\n",
       "dtype: int64"
      ]
     },
     "execution_count": 13,
     "metadata": {},
     "output_type": "execute_result"
    }
   ],
   "source": [
    "df.isnull().sum()"
   ]
  },
  {
   "cell_type": "code",
   "execution_count": 14,
   "metadata": {},
   "outputs": [],
   "source": [
    "df.dropna(axis=0,inplace=True)"
   ]
  },
  {
   "cell_type": "markdown",
   "metadata": {},
   "source": [
    "**Haversine Formula**\n",
    "\n",
    "Calculatin the distance between the pickup and drop co-ordinates using the Haversine formual for accuracy."
   ]
  },
  {
   "cell_type": "code",
   "execution_count": 16,
   "metadata": {},
   "outputs": [],
   "source": [
    "#create the function\n",
    "\n",
    "def dist(lon1,lon2,lat1,lat2): #pickup and drop latitude and longitude\n",
    "    #these values are in degree so convert into meter\n",
    "    lon1,lon2,lat1,lat2 = map(np.radians,[lon1,lon2,lat1,lat2]) #degree to radians\n",
    "\n",
    "    lon_dif = lon2 -lon1\n",
    "    lat_dif = lat2 - lat1\n",
    "    #Haversine formula\n",
    "\n",
    "    dist_km = 2 * 6371 * np.arcsin(np.sqrt(np.sin(lat_dif/2.0)**2 + np.cos(lat1) * np.cos(lat2) * np.sin(lon_dif/2.0)**2))\n",
    "\n",
    "    return dist_km"
   ]
  },
  {
   "cell_type": "code",
   "execution_count": 17,
   "metadata": {},
   "outputs": [],
   "source": [
    "# pass the values\n",
    "\n",
    "distance_km = dist(df['pickup_longitude'],df['dropoff_longitude'],df['pickup_latitude'],df['dropoff_latitude'])"
   ]
  },
  {
   "cell_type": "code",
   "execution_count": 19,
   "metadata": {},
   "outputs": [],
   "source": [
    "df['distance_km'] = distance_km"
   ]
  },
  {
   "cell_type": "code",
   "execution_count": 20,
   "metadata": {},
   "outputs": [
    {
     "data": {
      "text/html": [
       "<div>\n",
       "<style scoped>\n",
       "    .dataframe tbody tr th:only-of-type {\n",
       "        vertical-align: middle;\n",
       "    }\n",
       "\n",
       "    .dataframe tbody tr th {\n",
       "        vertical-align: top;\n",
       "    }\n",
       "\n",
       "    .dataframe thead th {\n",
       "        text-align: right;\n",
       "    }\n",
       "</style>\n",
       "<table border=\"1\" class=\"dataframe\">\n",
       "  <thead>\n",
       "    <tr style=\"text-align: right;\">\n",
       "      <th></th>\n",
       "      <th>fare_amount</th>\n",
       "      <th>pickup_datetime</th>\n",
       "      <th>pickup_longitude</th>\n",
       "      <th>pickup_latitude</th>\n",
       "      <th>dropoff_longitude</th>\n",
       "      <th>dropoff_latitude</th>\n",
       "      <th>passenger_count</th>\n",
       "      <th>distance_km</th>\n",
       "    </tr>\n",
       "  </thead>\n",
       "  <tbody>\n",
       "    <tr>\n",
       "      <th>0</th>\n",
       "      <td>7.5</td>\n",
       "      <td>2015-05-07 19:52:06 UTC</td>\n",
       "      <td>-73.999817</td>\n",
       "      <td>40.738354</td>\n",
       "      <td>-73.999512</td>\n",
       "      <td>40.723217</td>\n",
       "      <td>1</td>\n",
       "      <td>1.683323</td>\n",
       "    </tr>\n",
       "    <tr>\n",
       "      <th>1</th>\n",
       "      <td>7.7</td>\n",
       "      <td>2009-07-17 20:04:56 UTC</td>\n",
       "      <td>-73.994355</td>\n",
       "      <td>40.728225</td>\n",
       "      <td>-73.994710</td>\n",
       "      <td>40.750325</td>\n",
       "      <td>1</td>\n",
       "      <td>2.457590</td>\n",
       "    </tr>\n",
       "    <tr>\n",
       "      <th>2</th>\n",
       "      <td>12.9</td>\n",
       "      <td>2009-08-24 21:45:00 UTC</td>\n",
       "      <td>-74.005043</td>\n",
       "      <td>40.740770</td>\n",
       "      <td>-73.962565</td>\n",
       "      <td>40.772647</td>\n",
       "      <td>1</td>\n",
       "      <td>5.036377</td>\n",
       "    </tr>\n",
       "    <tr>\n",
       "      <th>3</th>\n",
       "      <td>5.3</td>\n",
       "      <td>2009-06-26 08:22:21 UTC</td>\n",
       "      <td>-73.976124</td>\n",
       "      <td>40.790844</td>\n",
       "      <td>-73.965316</td>\n",
       "      <td>40.803349</td>\n",
       "      <td>3</td>\n",
       "      <td>1.661683</td>\n",
       "    </tr>\n",
       "    <tr>\n",
       "      <th>4</th>\n",
       "      <td>16.0</td>\n",
       "      <td>2014-08-28 17:47:00 UTC</td>\n",
       "      <td>-73.925023</td>\n",
       "      <td>40.744085</td>\n",
       "      <td>-73.973082</td>\n",
       "      <td>40.761247</td>\n",
       "      <td>5</td>\n",
       "      <td>4.475450</td>\n",
       "    </tr>\n",
       "  </tbody>\n",
       "</table>\n",
       "</div>"
      ],
      "text/plain": [
       "   fare_amount          pickup_datetime  pickup_longitude  pickup_latitude   \n",
       "0          7.5  2015-05-07 19:52:06 UTC        -73.999817        40.738354  \\\n",
       "1          7.7  2009-07-17 20:04:56 UTC        -73.994355        40.728225   \n",
       "2         12.9  2009-08-24 21:45:00 UTC        -74.005043        40.740770   \n",
       "3          5.3  2009-06-26 08:22:21 UTC        -73.976124        40.790844   \n",
       "4         16.0  2014-08-28 17:47:00 UTC        -73.925023        40.744085   \n",
       "\n",
       "   dropoff_longitude  dropoff_latitude  passenger_count  distance_km  \n",
       "0         -73.999512         40.723217                1     1.683323  \n",
       "1         -73.994710         40.750325                1     2.457590  \n",
       "2         -73.962565         40.772647                1     5.036377  \n",
       "3         -73.965316         40.803349                3     1.661683  \n",
       "4         -73.973082         40.761247                5     4.475450  "
      ]
     },
     "execution_count": 20,
     "metadata": {},
     "output_type": "execute_result"
    }
   ],
   "source": [
    "df.head()"
   ]
  },
  {
   "cell_type": "markdown",
   "metadata": {},
   "source": [
    "lets see the realation between fare and distance\n",
    "using scatter plot"
   ]
  },
  {
   "cell_type": "code",
   "execution_count": 22,
   "metadata": {},
   "outputs": [
    {
     "data": {
      "text/plain": [
       "Text(0, 0.5, 'Fare Amount ($)')"
      ]
     },
     "execution_count": 22,
     "metadata": {},
     "output_type": "execute_result"
    },
    {
     "data": {
      "image/png": "[encoded data removed]",
      "text/plain": [
       "<Figure size 640x480 with 1 Axes>"
      ]
     },
     "metadata": {},
     "output_type": "display_data"
    }
   ],
   "source": [
    "plt.scatter(df['distance_km'],df['fare_amount'])\n",
    "plt.xlabel('Distance in km')\n",
    "plt.ylabel('Fare Amount ($)')"
   ]
  },
  {
   "cell_type": "markdown",
   "metadata": {},
   "source": [
    "date and time create seperate columns for usability"
   ]
  },
  {
   "cell_type": "code",
   "execution_count": 28,
   "metadata": {},
   "outputs": [],
   "source": [
    "df['pickup_datetime'] = pd.to_datetime(df['pickup_datetime'])\n",
    "\n"
   ]
  },
  {
   "cell_type": "code",
   "execution_count": 29,
   "metadata": {},
   "outputs": [
    {
     "data": {
      "text/html": [
       "<div>\n",
       "<style scoped>\n",
       "    .dataframe tbody tr th:only-of-type {\n",
       "        vertical-align: middle;\n",
       "    }\n",
       "\n",
       "    .dataframe tbody tr th {\n",
       "        vertical-align: top;\n",
       "    }\n",
       "\n",
       "    .dataframe thead th {\n",
       "        text-align: right;\n",
       "    }\n",
       "</style>\n",
       "<table border=\"1\" class=\"dataframe\">\n",
       "  <thead>\n",
       "    <tr style=\"text-align: right;\">\n",
       "      <th></th>\n",
       "      <th>fare_amount</th>\n",
       "      <th>pickup_datetime</th>\n",
       "      <th>pickup_longitude</th>\n",
       "      <th>pickup_latitude</th>\n",
       "      <th>dropoff_longitude</th>\n",
       "      <th>dropoff_latitude</th>\n",
       "      <th>passenger_count</th>\n",
       "      <th>distance_km</th>\n",
       "      <th>Year</th>\n",
       "      <th>Month</th>\n",
       "      <th>Day</th>\n",
       "      <th>Day of Week</th>\n",
       "      <th>Day of Week_num</th>\n",
       "      <th>Hour</th>\n",
       "      <th>counter</th>\n",
       "    </tr>\n",
       "  </thead>\n",
       "  <tbody>\n",
       "    <tr>\n",
       "      <th>0</th>\n",
       "      <td>7.5</td>\n",
       "      <td>2015-05-07 19:52:06+00:00</td>\n",
       "      <td>-73.999817</td>\n",
       "      <td>40.738354</td>\n",
       "      <td>-73.999512</td>\n",
       "      <td>40.723217</td>\n",
       "      <td>1</td>\n",
       "      <td>1.683323</td>\n",
       "      <td>2015</td>\n",
       "      <td>5</td>\n",
       "      <td>7</td>\n",
       "      <td>Thu</td>\n",
       "      <td>3</td>\n",
       "      <td>19</td>\n",
       "      <td>1</td>\n",
       "    </tr>\n",
       "    <tr>\n",
       "      <th>1</th>\n",
       "      <td>7.7</td>\n",
       "      <td>2009-07-17 20:04:56+00:00</td>\n",
       "      <td>-73.994355</td>\n",
       "      <td>40.728225</td>\n",
       "      <td>-73.994710</td>\n",
       "      <td>40.750325</td>\n",
       "      <td>1</td>\n",
       "      <td>2.457590</td>\n",
       "      <td>2009</td>\n",
       "      <td>7</td>\n",
       "      <td>17</td>\n",
       "      <td>Fri</td>\n",
       "      <td>4</td>\n",
       "      <td>20</td>\n",
       "      <td>1</td>\n",
       "    </tr>\n",
       "    <tr>\n",
       "      <th>2</th>\n",
       "      <td>12.9</td>\n",
       "      <td>2009-08-24 21:45:00+00:00</td>\n",
       "      <td>-74.005043</td>\n",
       "      <td>40.740770</td>\n",
       "      <td>-73.962565</td>\n",
       "      <td>40.772647</td>\n",
       "      <td>1</td>\n",
       "      <td>5.036377</td>\n",
       "      <td>2009</td>\n",
       "      <td>8</td>\n",
       "      <td>24</td>\n",
       "      <td>Mon</td>\n",
       "      <td>0</td>\n",
       "      <td>21</td>\n",
       "      <td>1</td>\n",
       "    </tr>\n",
       "    <tr>\n",
       "      <th>3</th>\n",
       "      <td>5.3</td>\n",
       "      <td>2009-06-26 08:22:21+00:00</td>\n",
       "      <td>-73.976124</td>\n",
       "      <td>40.790844</td>\n",
       "      <td>-73.965316</td>\n",
       "      <td>40.803349</td>\n",
       "      <td>3</td>\n",
       "      <td>1.661683</td>\n",
       "      <td>2009</td>\n",
       "      <td>6</td>\n",
       "      <td>26</td>\n",
       "      <td>Fri</td>\n",
       "      <td>4</td>\n",
       "      <td>8</td>\n",
       "      <td>1</td>\n",
       "    </tr>\n",
       "    <tr>\n",
       "      <th>4</th>\n",
       "      <td>16.0</td>\n",
       "      <td>2014-08-28 17:47:00+00:00</td>\n",
       "      <td>-73.925023</td>\n",
       "      <td>40.744085</td>\n",
       "      <td>-73.973082</td>\n",
       "      <td>40.761247</td>\n",
       "      <td>5</td>\n",
       "      <td>4.475450</td>\n",
       "      <td>2014</td>\n",
       "      <td>8</td>\n",
       "      <td>28</td>\n",
       "      <td>Thu</td>\n",
       "      <td>3</td>\n",
       "      <td>17</td>\n",
       "      <td>1</td>\n",
       "    </tr>\n",
       "  </tbody>\n",
       "</table>\n",
       "</div>"
      ],
      "text/plain": [
       "   fare_amount           pickup_datetime  pickup_longitude  pickup_latitude   \n",
       "0          7.5 2015-05-07 19:52:06+00:00        -73.999817        40.738354  \\\n",
       "1          7.7 2009-07-17 20:04:56+00:00        -73.994355        40.728225   \n",
       "2         12.9 2009-08-24 21:45:00+00:00        -74.005043        40.740770   \n",
       "3          5.3 2009-06-26 08:22:21+00:00        -73.976124        40.790844   \n",
       "4         16.0 2014-08-28 17:47:00+00:00        -73.925023        40.744085   \n",
       "\n",
       "   dropoff_longitude  dropoff_latitude  passenger_count  distance_km  Year   \n",
       "0         -73.999512         40.723217                1     1.683323  2015  \\\n",
       "1         -73.994710         40.750325                1     2.457590  2009   \n",
       "2         -73.962565         40.772647                1     5.036377  2009   \n",
       "3         -73.965316         40.803349                3     1.661683  2009   \n",
       "4         -73.973082         40.761247                5     4.475450  2014   \n",
       "\n",
       "   Month  Day Day of Week  Day of Week_num  Hour  counter  \n",
       "0      5    7         Thu                3    19        1  \n",
       "1      7   17         Fri                4    20        1  \n",
       "2      8   24         Mon                0    21        1  \n",
       "3      6   26         Fri                4     8        1  \n",
       "4      8   28         Thu                3    17        1  "
      ]
     },
     "execution_count": 29,
     "metadata": {},
     "output_type": "execute_result"
    }
   ],
   "source": [
    "df.head()"
   ]
  },
  {
   "cell_type": "markdown",
   "metadata": {},
   "source": [
    "Data Visualization Finding trends in data variables"
   ]
  },
  {
   "cell_type": "markdown",
   "metadata": {},
   "source": [
    "*Average trip by year*"
   ]
  },
  {
   "cell_type": "code",
   "execution_count": 31,
   "metadata": {},
   "outputs": [],
   "source": [
    "years = df['Year'].unique()"
   ]
  },
  {
   "cell_type": "code",
   "execution_count": 36,
   "metadata": {},
   "outputs": [
    {
     "name": "stdout",
     "output_type": "stream",
     "text": [
      "[2009, 2010, 2011, 2012, 2013, 2014, 2015]\n"
     ]
    }
   ],
   "source": [
    "print(sorted(years))"
   ]
  },
  {
   "cell_type": "code",
   "execution_count": 60,
   "metadata": {},
   "outputs": [],
   "source": [
    "df.drop(df[(df['fare_amount']>100) & (df['distance_km']<1)].index, inplace = True )\n",
    "df.drop(df[(df['fare_amount']<100) & (df['distance_km']>100)].index, inplace = True )"
   ]
  },
  {
   "cell_type": "code",
   "execution_count": 61,
   "metadata": {},
   "outputs": [
    {
     "name": "stdout",
     "output_type": "stream",
     "text": [
      "Average trips a year: \n",
      "[2009, 2010, 2011, 2012, 2013, 2014, 2015] [30515, 30171, 31845, 32284, 31127, 29843, 13706]\n"
     ]
    },
    {
     "data": {
      "text/plain": [
       "<BarContainer object of 7 artists>"
      ]
     },
     "execution_count": 61,
     "metadata": {},
     "output_type": "execute_result"
    },
    {
     "data": {
      "image/png": "[encoded data removed]",
      "text/plain": [
       "<Figure size 640x480 with 1 Axes>"
      ]
     },
     "metadata": {},
     "output_type": "display_data"
    }
   ],
   "source": [
    "no_of_trips = []\n",
    "year = [2009, 2010, 2011, 2012, 2013, 2014, 2015]\n",
    "\n",
    "colors = ['#1f77b4', '#ff7f0e', '#2ca02c', '#d62728', '#9467bd',\n",
    "          '#8c564b', '#e377c2', '#7f7f7f', '#bcbd22', '#17becf']\n",
    "\n",
    "for i in range(2009, 2016):\n",
    "    x = df.loc[df['Year'] == i, 'counter'].sum()\n",
    "    no_of_trips.append(x)\n",
    "\n",
    "print(\"Average trips a year: \")\n",
    "print(year, no_of_trips)\n",
    "\n",
    "plt.bar(year, no_of_trips, color=colors)"
   ]
  },
  {
   "cell_type": "markdown",
   "metadata": {},
   "source": [
    "**Avaragly trip by month**"
   ]
  },
  {
   "cell_type": "code",
   "execution_count": 62,
   "metadata": {},
   "outputs": [
    {
     "name": "stdout",
     "output_type": "stream",
     "text": [
      "Average trips a Month: \n",
      "['Jan', 'Feb', 'Mar', 'Apr', 'May', 'Jun', 'Jul', 'Aug', 'Sep', 'Oct', 'Nov', 'Dec'] [17629, 16639, 18712, 18559, 18815, 17731, 15062, 14183, 15230, 16171, 15276, 15484]\n"
     ]
    },
    {
     "data": {
      "text/plain": [
       "<BarContainer object of 12 artists>"
      ]
     },
     "execution_count": 62,
     "metadata": {},
     "output_type": "execute_result"
    },
    {
     "data": {
      "image/png": "[encoded data removed]",
      "text/plain": [
       "<Figure size 640x480 with 1 Axes>"
      ]
     },
     "metadata": {},
     "output_type": "display_data"
    }
   ],
   "source": [
    "no_of_trips = []\n",
    "month = ['Jan', 'Feb', 'Mar', 'Apr', 'May', 'Jun', 'Jul', 'Aug', 'Sep', 'Oct', 'Nov', 'Dec']\n",
    "\n",
    "colors = ['#1f77b4', '#ff7f0e', '#2ca02c', '#d62728', '#9467bd',\n",
    "          '#8c564b', '#e377c2', '#7f7f7f', '#bcbd22', '#17becf']\n",
    "\n",
    "for i in range(1, 13):\n",
    "    x = df.loc[df['Month'] == i, 'counter'].sum()\n",
    "    no_of_trips.append(x)\n",
    "\n",
    "print(\"Average trips a Month: \")\n",
    "print(month, no_of_trips)\n",
    "\n",
    "plt.bar(month, no_of_trips, color=colors)"
   ]
  },
  {
   "cell_type": "markdown",
   "metadata": {},
   "source": [
    "**Daily trips**"
   ]
  },
  {
   "cell_type": "code",
   "execution_count": 63,
   "metadata": {},
   "outputs": [
    {
     "name": "stdout",
     "output_type": "stream",
     "text": [
      "Average trips by Days: \n",
      "['Mon', 'Tue', 'Wed', 'Thu', 'Fri', 'Sat', 'Sun'] [25174, 28049, 28962, 29946, 30805, 30173, 26382]\n"
     ]
    },
    {
     "data": {
      "text/plain": [
       "<BarContainer object of 7 artists>"
      ]
     },
     "execution_count": 63,
     "metadata": {},
     "output_type": "execute_result"
    },
    {
     "data": {
      "image/png": "[encoded data removed]",
      "text/plain": [
       "<Figure size 640x480 with 1 Axes>"
      ]
     },
     "metadata": {},
     "output_type": "display_data"
    }
   ],
   "source": [
    "no_of_trips = []\n",
    "day = ['Mon', 'Tue', 'Wed', 'Thu', 'Fri', 'Sat', 'Sun']\n",
    "\n",
    "colors = ['#1f77b4', '#ff7f0e', '#2ca02c', '#d62728', '#9467bd',\n",
    "          '#8c564b', '#e377c2', '#7f7f7f', '#bcbd22', '#17becf']\n",
    "\n",
    "for i in range(0, 7):\n",
    "    x = df.loc[df['Day of Week_num'] == i, 'counter'].sum()\n",
    "    no_of_trips.append(x)\n",
    "\n",
    "print(\"Average trips by Days: \")\n",
    "print(day, no_of_trips)\n",
    "\n",
    "plt.bar(day, no_of_trips, color=colors)"
   ]
  },
  {
   "cell_type": "code",
   "execution_count": 64,
   "metadata": {},
   "outputs": [
    {
     "name": "stderr",
     "output_type": "stream",
     "text": [
      "C:\\Users\\gaura\\AppData\\Local\\Temp\\ipykernel_20248\\2322029294.py:3: UserWarning: \n",
      "\n",
      "`distplot` is a deprecated function and will be removed in seaborn v0.14.0.\n",
      "\n",
      "Please adapt your code to use either `displot` (a figure-level function with\n",
      "similar flexibility) or `histplot` (an axes-level function for histograms).\n",
      "\n",
      "For a guide to updating your code to use the new functions, please see\n",
      "https://gist.github.com/mwaskom/de44147ed2974457ad6372750bbe5751\n",
      "\n",
      "  sns.distplot(df['fare_amount'], color='g',hist_kws=dict(edgecolor=\"black\", linewidth=2), bins=30)\n"
     ]
    },
    {
     "data": {
      "image/png": "[encoded data removed]",
      "text/plain": [
       "<Figure size 800x400 with 1 Axes>"
      ]
     },
     "metadata": {},
     "output_type": "display_data"
    }
   ],
   "source": [
    "import seaborn as sns\n",
    "plt.figure(figsize=[8,4])\n",
    "sns.distplot(df['fare_amount'], color='g',hist_kws=dict(edgecolor=\"black\", linewidth=2), bins=30)\n",
    "plt.title('Target Variable Distribution')\n",
    "plt.show()"
   ]
  },
  {
   "cell_type": "markdown",
   "metadata": {},
   "source": [
    "**Statistics**\n",
    "\n",
    "statistical information about the data\n"
   ]
  },
  {
   "cell_type": "code",
   "execution_count": 65,
   "metadata": {},
   "outputs": [],
   "source": [
    "df.drop(df[(df['fare_amount']>100) & (df['distance_km']<1)].index, inplace = True )\n",
    "df.drop(df[(df['fare_amount']<100) & (df['distance_km']>100)].index, inplace = True )"
   ]
  },
  {
   "cell_type": "code",
   "execution_count": 66,
   "metadata": {},
   "outputs": [
    {
     "name": "stdout",
     "output_type": "stream",
     "text": [
      "Mean of fare prices is 11.324769087327248 \n",
      "Median of fare prices is 8.5 \n",
      "Standard Deviation of Fare Prices is 9.627356453747998 \n"
     ]
    }
   ],
   "source": [
    "import statistics as st\n",
    "\n",
    "print(\"Mean of fare prices is % s \"\n",
    "         % (st.mean(df['fare_amount'])))\n",
    "\n",
    "print(\"Median of fare prices is % s \"\n",
    "         % (st.median(df['fare_amount'])))\n",
    "\n",
    "print(\"Standard Deviation of Fare Prices is % s \"\n",
    "                % (st.stdev(df['fare_amount'])))"
   ]
  },
  {
   "cell_type": "markdown",
   "metadata": {},
   "source": [
    "**Distant**"
   ]
  },
  {
   "cell_type": "code",
   "execution_count": 67,
   "metadata": {},
   "outputs": [
    {
     "name": "stdout",
     "output_type": "stream",
     "text": [
      "Mean of distance_km is 3.267300488082685 \n",
      "Median of distance_km is 2.1161586956761145 \n",
      "Standard Deviation of distance_km is 3.717933180174616 \n"
     ]
    }
   ],
   "source": [
    "import statistics as st\n",
    "print(\"Mean of distance_km is % s \"\n",
    "         % (st.mean(df['distance_km'])))\n",
    "\n",
    "print(\"Median of distance_km is % s \"\n",
    "         % (st.median(df['distance_km'])))\n",
    "\n",
    "print(\"Standard Deviation of distance_km is % s \"\n",
    "                % (st.stdev(df['distance_km'])))"
   ]
  },
  {
   "cell_type": "markdown",
   "metadata": {},
   "source": [
    "Coorelation Matrix\n",
    "To find the two variables that have the most inter-dependence"
   ]
  },
  {
   "cell_type": "code",
   "execution_count": 69,
   "metadata": {},
   "outputs": [],
   "source": [
    "df['Day of Week'] = pd.to_numeric(df['Day of Week'], errors='coerce')"
   ]
  },
  {
   "cell_type": "code",
   "execution_count": 70,
   "metadata": {},
   "outputs": [
    {
     "name": "stderr",
     "output_type": "stream",
     "text": [
      "C:\\Users\\gaura\\AppData\\Local\\Packages\\PythonSoftwareFoundation.Python.3.11_qbz5n2kfra8p0\\LocalCache\\local-packages\\Python311\\site-packages\\pandas\\io\\formats\\style.py:3618: RuntimeWarning: All-NaN slice encountered\n",
      "  smin = np.nanmin(gmap) if vmin is None else vmin\n",
      "C:\\Users\\gaura\\AppData\\Local\\Packages\\PythonSoftwareFoundation.Python.3.11_qbz5n2kfra8p0\\LocalCache\\local-packages\\Python311\\site-packages\\pandas\\io\\formats\\style.py:3619: RuntimeWarning: All-NaN slice encountered\n",
      "  smax = np.nanmax(gmap) if vmax is None else vmax\n"
     ]
    },
    {
     "data": {
      "text/html": [
       "<style type=\"text/css\">\n",
       "#T_3d22c_row0_col0, #T_3d22c_row1_col1, #T_3d22c_row2_col2, #T_3d22c_row2_col4, #T_3d22c_row3_col3, #T_3d22c_row4_col2, #T_3d22c_row4_col4, #T_3d22c_row5_col5, #T_3d22c_row6_col6, #T_3d22c_row7_col7, #T_3d22c_row8_col8, #T_3d22c_row9_col9, #T_3d22c_row10_col10, #T_3d22c_row12_col12, #T_3d22c_row13_col13 {\n",
       "  background-color: #00441b;\n",
       "  color: #f1f1f1;\n",
       "}\n",
       "#T_3d22c_row0_col1 {\n",
       "  background-color: #e4f5f8;\n",
       "  color: #000000;\n",
       "}\n",
       "#T_3d22c_row0_col2, #T_3d22c_row0_col4, #T_3d22c_row1_col2, #T_3d22c_row1_col4, #T_3d22c_row8_col2, #T_3d22c_row8_col4, #T_3d22c_row9_col5, #T_3d22c_row10_col2, #T_3d22c_row10_col4, #T_3d22c_row12_col2, #T_3d22c_row12_col4, #T_3d22c_row13_col2 {\n",
       "  background-color: #67c2a5;\n",
       "  color: #000000;\n",
       "}\n",
       "#T_3d22c_row0_col3, #T_3d22c_row1_col3, #T_3d22c_row1_col5, #T_3d22c_row8_col3, #T_3d22c_row8_col5, #T_3d22c_row10_col3, #T_3d22c_row10_col5, #T_3d22c_row12_col3 {\n",
       "  background-color: #6ac4a7;\n",
       "  color: #000000;\n",
       "}\n",
       "#T_3d22c_row0_col5, #T_3d22c_row6_col2, #T_3d22c_row6_col3, #T_3d22c_row6_col4, #T_3d22c_row6_col5, #T_3d22c_row9_col2, #T_3d22c_row9_col3, #T_3d22c_row9_col4, #T_3d22c_row12_col5, #T_3d22c_row13_col3, #T_3d22c_row13_col4, #T_3d22c_row13_col5 {\n",
       "  background-color: #68c3a6;\n",
       "  color: #000000;\n",
       "}\n",
       "#T_3d22c_row0_col6, #T_3d22c_row1_col10, #T_3d22c_row2_col1, #T_3d22c_row3_col0, #T_3d22c_row4_col1, #T_3d22c_row5_col0, #T_3d22c_row6_col1, #T_3d22c_row12_col1, #T_3d22c_row13_col6 {\n",
       "  background-color: #f5fbfd;\n",
       "  color: #000000;\n",
       "}\n",
       "#T_3d22c_row0_col7 {\n",
       "  background-color: #077331;\n",
       "  color: #f1f1f1;\n",
       "}\n",
       "#T_3d22c_row0_col8 {\n",
       "  background-color: #d4efec;\n",
       "  color: #000000;\n",
       "}\n",
       "#T_3d22c_row0_col9, #T_3d22c_row1_col7, #T_3d22c_row7_col8, #T_3d22c_row8_col7 {\n",
       "  background-color: #e5f5f9;\n",
       "  color: #000000;\n",
       "}\n",
       "#T_3d22c_row0_col10, #T_3d22c_row7_col10 {\n",
       "  background-color: #f5fbfc;\n",
       "  color: #000000;\n",
       "}\n",
       "#T_3d22c_row0_col11, #T_3d22c_row0_col14, #T_3d22c_row1_col11, #T_3d22c_row1_col14, #T_3d22c_row2_col11, #T_3d22c_row2_col14, #T_3d22c_row3_col11, #T_3d22c_row3_col14, #T_3d22c_row4_col11, #T_3d22c_row4_col14, #T_3d22c_row5_col11, #T_3d22c_row5_col14, #T_3d22c_row6_col11, #T_3d22c_row6_col14, #T_3d22c_row7_col11, #T_3d22c_row7_col14, #T_3d22c_row8_col11, #T_3d22c_row8_col14, #T_3d22c_row9_col11, #T_3d22c_row9_col14, #T_3d22c_row10_col11, #T_3d22c_row10_col14, #T_3d22c_row11_col0, #T_3d22c_row11_col1, #T_3d22c_row11_col2, #T_3d22c_row11_col3, #T_3d22c_row11_col4, #T_3d22c_row11_col5, #T_3d22c_row11_col6, #T_3d22c_row11_col7, #T_3d22c_row11_col8, #T_3d22c_row11_col9, #T_3d22c_row11_col10, #T_3d22c_row11_col11, #T_3d22c_row11_col12, #T_3d22c_row11_col13, #T_3d22c_row11_col14, #T_3d22c_row12_col11, #T_3d22c_row12_col14, #T_3d22c_row13_col11, #T_3d22c_row13_col14, #T_3d22c_row14_col0, #T_3d22c_row14_col1, #T_3d22c_row14_col2, #T_3d22c_row14_col3, #T_3d22c_row14_col4, #T_3d22c_row14_col5, #T_3d22c_row14_col6, #T_3d22c_row14_col7, #T_3d22c_row14_col8, #T_3d22c_row14_col9, #T_3d22c_row14_col10, #T_3d22c_row14_col11, #T_3d22c_row14_col12, #T_3d22c_row14_col13, #T_3d22c_row14_col14 {\n",
       "  background-color: #000000;\n",
       "  color: #f1f1f1;\n",
       "}\n",
       "#T_3d22c_row0_col12, #T_3d22c_row1_col12, #T_3d22c_row2_col12, #T_3d22c_row4_col12, #T_3d22c_row8_col12, #T_3d22c_row10_col9, #T_3d22c_row10_col12, #T_3d22c_row10_col13 {\n",
       "  background-color: #ebf7fa;\n",
       "  color: #000000;\n",
       "}\n",
       "#T_3d22c_row0_col13 {\n",
       "  background-color: #eff9fb;\n",
       "  color: #000000;\n",
       "}\n",
       "#T_3d22c_row1_col0 {\n",
       "  background-color: #e2f4f7;\n",
       "  color: #000000;\n",
       "}\n",
       "#T_3d22c_row1_col6, #T_3d22c_row3_col2, #T_3d22c_row3_col4, #T_3d22c_row3_col10, #T_3d22c_row5_col10, #T_3d22c_row7_col6, #T_3d22c_row8_col6, #T_3d22c_row8_col10, #T_3d22c_row9_col6, #T_3d22c_row10_col1, #T_3d22c_row10_col6, #T_3d22c_row13_col1 {\n",
       "  background-color: #f6fcfd;\n",
       "  color: #000000;\n",
       "}\n",
       "#T_3d22c_row1_col8 {\n",
       "  background-color: #00471c;\n",
       "  color: #f1f1f1;\n",
       "}\n",
       "#T_3d22c_row1_col9, #T_3d22c_row8_col0 {\n",
       "  background-color: #e3f4f7;\n",
       "  color: #000000;\n",
       "}\n",
       "#T_3d22c_row1_col13, #T_3d22c_row2_col13, #T_3d22c_row3_col13, #T_3d22c_row4_col13, #T_3d22c_row5_col13, #T_3d22c_row8_col13 {\n",
       "  background-color: #ecf8fa;\n",
       "  color: #000000;\n",
       "}\n",
       "#T_3d22c_row2_col0, #T_3d22c_row2_col10, #T_3d22c_row4_col0, #T_3d22c_row4_col10, #T_3d22c_row6_col10, #T_3d22c_row10_col0, #T_3d22c_row12_col0, #T_3d22c_row12_col10, #T_3d22c_row13_col10 {\n",
       "  background-color: #f4fbfc;\n",
       "  color: #000000;\n",
       "}\n",
       "#T_3d22c_row2_col3, #T_3d22c_row2_col5, #T_3d22c_row2_col6, #T_3d22c_row2_col7, #T_3d22c_row3_col1, #T_3d22c_row3_col6, #T_3d22c_row4_col3, #T_3d22c_row4_col5, #T_3d22c_row4_col6, #T_3d22c_row4_col7, #T_3d22c_row5_col1, #T_3d22c_row5_col2, #T_3d22c_row5_col4, #T_3d22c_row5_col6, #T_3d22c_row8_col9, #T_3d22c_row9_col8, #T_3d22c_row9_col10, #T_3d22c_row12_col13, #T_3d22c_row13_col0, #T_3d22c_row13_col12 {\n",
       "  background-color: #f7fcfd;\n",
       "  color: #000000;\n",
       "}\n",
       "#T_3d22c_row2_col8, #T_3d22c_row3_col9, #T_3d22c_row4_col8, #T_3d22c_row5_col9, #T_3d22c_row6_col7, #T_3d22c_row6_col8, #T_3d22c_row10_col7, #T_3d22c_row12_col8, #T_3d22c_row13_col8 {\n",
       "  background-color: #e8f6fa;\n",
       "  color: #000000;\n",
       "}\n",
       "#T_3d22c_row2_col9, #T_3d22c_row3_col8, #T_3d22c_row4_col9, #T_3d22c_row5_col8, #T_3d22c_row7_col12, #T_3d22c_row12_col9, #T_3d22c_row13_col9 {\n",
       "  background-color: #e9f7fa;\n",
       "  color: #000000;\n",
       "}\n",
       "#T_3d22c_row3_col5, #T_3d22c_row5_col3 {\n",
       "  background-color: #00451c;\n",
       "  color: #f1f1f1;\n",
       "}\n",
       "#T_3d22c_row3_col7, #T_3d22c_row5_col7 {\n",
       "  background-color: #d7f0ee;\n",
       "  color: #000000;\n",
       "}\n",
       "#T_3d22c_row3_col12, #T_3d22c_row5_col12, #T_3d22c_row9_col13, #T_3d22c_row13_col7 {\n",
       "  background-color: #ecf8fb;\n",
       "  color: #000000;\n",
       "}\n",
       "#T_3d22c_row6_col0, #T_3d22c_row7_col1, #T_3d22c_row12_col6 {\n",
       "  background-color: #f2fafc;\n",
       "  color: #000000;\n",
       "}\n",
       "#T_3d22c_row6_col9, #T_3d22c_row6_col12, #T_3d22c_row7_col9, #T_3d22c_row9_col7, #T_3d22c_row12_col7 {\n",
       "  background-color: #e7f6f9;\n",
       "  color: #000000;\n",
       "}\n",
       "#T_3d22c_row6_col13, #T_3d22c_row10_col8 {\n",
       "  background-color: #eaf7fa;\n",
       "  color: #000000;\n",
       "}\n",
       "#T_3d22c_row7_col0 {\n",
       "  background-color: #0b7734;\n",
       "  color: #f1f1f1;\n",
       "}\n",
       "#T_3d22c_row7_col2, #T_3d22c_row7_col4 {\n",
       "  background-color: #7fcdb6;\n",
       "  color: #000000;\n",
       "}\n",
       "#T_3d22c_row7_col3, #T_3d22c_row7_col5 {\n",
       "  background-color: #57ba92;\n",
       "  color: #f1f1f1;\n",
       "}\n",
       "#T_3d22c_row7_col13 {\n",
       "  background-color: #f0f9fb;\n",
       "  color: #000000;\n",
       "}\n",
       "#T_3d22c_row8_col1 {\n",
       "  background-color: #00481d;\n",
       "  color: #f1f1f1;\n",
       "}\n",
       "#T_3d22c_row9_col0, #T_3d22c_row9_col1 {\n",
       "  background-color: #f1fafc;\n",
       "  color: #000000;\n",
       "}\n",
       "#T_3d22c_row9_col12 {\n",
       "  background-color: #edf8fb;\n",
       "  color: #000000;\n",
       "}\n",
       "</style>\n",
       "<table id=\"T_3d22c\">\n",
       "  <thead>\n",
       "    <tr>\n",
       "      <th class=\"blank level0\" >&nbsp;</th>\n",
       "      <th id=\"T_3d22c_level0_col0\" class=\"col_heading level0 col0\" >fare_amount</th>\n",
       "      <th id=\"T_3d22c_level0_col1\" class=\"col_heading level0 col1\" >pickup_datetime</th>\n",
       "      <th id=\"T_3d22c_level0_col2\" class=\"col_heading level0 col2\" >pickup_longitude</th>\n",
       "      <th id=\"T_3d22c_level0_col3\" class=\"col_heading level0 col3\" >pickup_latitude</th>\n",
       "      <th id=\"T_3d22c_level0_col4\" class=\"col_heading level0 col4\" >dropoff_longitude</th>\n",
       "      <th id=\"T_3d22c_level0_col5\" class=\"col_heading level0 col5\" >dropoff_latitude</th>\n",
       "      <th id=\"T_3d22c_level0_col6\" class=\"col_heading level0 col6\" >passenger_count</th>\n",
       "      <th id=\"T_3d22c_level0_col7\" class=\"col_heading level0 col7\" >distance_km</th>\n",
       "      <th id=\"T_3d22c_level0_col8\" class=\"col_heading level0 col8\" >Year</th>\n",
       "      <th id=\"T_3d22c_level0_col9\" class=\"col_heading level0 col9\" >Month</th>\n",
       "      <th id=\"T_3d22c_level0_col10\" class=\"col_heading level0 col10\" >Day</th>\n",
       "      <th id=\"T_3d22c_level0_col11\" class=\"col_heading level0 col11\" >Day of Week</th>\n",
       "      <th id=\"T_3d22c_level0_col12\" class=\"col_heading level0 col12\" >Day of Week_num</th>\n",
       "      <th id=\"T_3d22c_level0_col13\" class=\"col_heading level0 col13\" >Hour</th>\n",
       "      <th id=\"T_3d22c_level0_col14\" class=\"col_heading level0 col14\" >counter</th>\n",
       "    </tr>\n",
       "  </thead>\n",
       "  <tbody>\n",
       "    <tr>\n",
       "      <th id=\"T_3d22c_level0_row0\" class=\"row_heading level0 row0\" >fare_amount</th>\n",
       "      <td id=\"T_3d22c_row0_col0\" class=\"data row0 col0\" >1.000000</td>\n",
       "      <td id=\"T_3d22c_row0_col1\" class=\"data row0 col1\" >0.125366</td>\n",
       "      <td id=\"T_3d22c_row0_col2\" class=\"data row0 col2\" >0.005832</td>\n",
       "      <td id=\"T_3d22c_row0_col3\" class=\"data row0 col3\" >-0.006195</td>\n",
       "      <td id=\"T_3d22c_row0_col4\" class=\"data row0 col4\" >0.005448</td>\n",
       "      <td id=\"T_3d22c_row0_col5\" class=\"data row0 col5\" >-0.006083</td>\n",
       "      <td id=\"T_3d22c_row0_col6\" class=\"data row0 col6\" >0.011361</td>\n",
       "      <td id=\"T_3d22c_row0_col7\" class=\"data row0 col7\" >0.830414</td>\n",
       "      <td id=\"T_3d22c_row0_col8\" class=\"data row0 col8\" >0.120881</td>\n",
       "      <td id=\"T_3d22c_row0_col9\" class=\"data row0 col9\" >0.024043</td>\n",
       "      <td id=\"T_3d22c_row0_col10\" class=\"data row0 col10\" >0.001100</td>\n",
       "      <td id=\"T_3d22c_row0_col11\" class=\"data row0 col11\" >nan</td>\n",
       "      <td id=\"T_3d22c_row0_col12\" class=\"data row0 col12\" >0.006544</td>\n",
       "      <td id=\"T_3d22c_row0_col13\" class=\"data row0 col13\" >-0.020587</td>\n",
       "      <td id=\"T_3d22c_row0_col14\" class=\"data row0 col14\" >nan</td>\n",
       "    </tr>\n",
       "    <tr>\n",
       "      <th id=\"T_3d22c_level0_row1\" class=\"row_heading level0 row1\" >pickup_datetime</th>\n",
       "      <td id=\"T_3d22c_row1_col0\" class=\"data row1 col0\" >0.125366</td>\n",
       "      <td id=\"T_3d22c_row1_col1\" class=\"data row1 col1\" >1.000000</td>\n",
       "      <td id=\"T_3d22c_row1_col2\" class=\"data row1 col2\" >0.005650</td>\n",
       "      <td id=\"T_3d22c_row1_col3\" class=\"data row1 col3\" >-0.008054</td>\n",
       "      <td id=\"T_3d22c_row1_col4\" class=\"data row1 col4\" >0.005623</td>\n",
       "      <td id=\"T_3d22c_row1_col5\" class=\"data row1 col5\" >-0.008132</td>\n",
       "      <td id=\"T_3d22c_row1_col6\" class=\"data row1 col6\" >0.006473</td>\n",
       "      <td id=\"T_3d22c_row1_col7\" class=\"data row1 col7\" >0.026186</td>\n",
       "      <td id=\"T_3d22c_row1_col8\" class=\"data row1 col8\" >0.987982</td>\n",
       "      <td id=\"T_3d22c_row1_col9\" class=\"data row1 col9\" >0.038472</td>\n",
       "      <td id=\"T_3d22c_row1_col10\" class=\"data row1 col10\" >-0.002038</td>\n",
       "      <td id=\"T_3d22c_row1_col11\" class=\"data row1 col11\" >nan</td>\n",
       "      <td id=\"T_3d22c_row1_col12\" class=\"data row1 col12\" >0.004738</td>\n",
       "      <td id=\"T_3d22c_row1_col13\" class=\"data row1 col13\" >0.002027</td>\n",
       "      <td id=\"T_3d22c_row1_col14\" class=\"data row1 col14\" >nan</td>\n",
       "    </tr>\n",
       "    <tr>\n",
       "      <th id=\"T_3d22c_level0_row2\" class=\"row_heading level0 row2\" >pickup_longitude</th>\n",
       "      <td id=\"T_3d22c_row2_col0\" class=\"data row2 col0\" >0.005832</td>\n",
       "      <td id=\"T_3d22c_row2_col1\" class=\"data row2 col1\" >0.005650</td>\n",
       "      <td id=\"T_3d22c_row2_col2\" class=\"data row2 col2\" >1.000000</td>\n",
       "      <td id=\"T_3d22c_row2_col3\" class=\"data row2 col3\" >-0.973209</td>\n",
       "      <td id=\"T_3d22c_row2_col4\" class=\"data row2 col4\" >0.999992</td>\n",
       "      <td id=\"T_3d22c_row2_col5\" class=\"data row2 col5\" >-0.981944</td>\n",
       "      <td id=\"T_3d22c_row2_col6\" class=\"data row2 col6\" >-0.000561</td>\n",
       "      <td id=\"T_3d22c_row2_col7\" class=\"data row2 col7\" >-0.113318</td>\n",
       "      <td id=\"T_3d22c_row2_col8\" class=\"data row2 col8\" >0.005973</td>\n",
       "      <td id=\"T_3d22c_row2_col9\" class=\"data row2 col9\" >-0.002700</td>\n",
       "      <td id=\"T_3d22c_row2_col10\" class=\"data row2 col10\" >0.005291</td>\n",
       "      <td id=\"T_3d22c_row2_col11\" class=\"data row2 col11\" >nan</td>\n",
       "      <td id=\"T_3d22c_row2_col12\" class=\"data row2 col12\" >0.003024</td>\n",
       "      <td id=\"T_3d22c_row2_col13\" class=\"data row2 col13\" >0.001508</td>\n",
       "      <td id=\"T_3d22c_row2_col14\" class=\"data row2 col14\" >nan</td>\n",
       "    </tr>\n",
       "    <tr>\n",
       "      <th id=\"T_3d22c_level0_row3\" class=\"row_heading level0 row3\" >pickup_latitude</th>\n",
       "      <td id=\"T_3d22c_row3_col0\" class=\"data row3 col0\" >-0.006195</td>\n",
       "      <td id=\"T_3d22c_row3_col1\" class=\"data row3 col1\" >-0.008054</td>\n",
       "      <td id=\"T_3d22c_row3_col2\" class=\"data row3 col2\" >-0.973209</td>\n",
       "      <td id=\"T_3d22c_row3_col3\" class=\"data row3 col3\" >1.000000</td>\n",
       "      <td id=\"T_3d22c_row3_col4\" class=\"data row3 col4\" >-0.973211</td>\n",
       "      <td id=\"T_3d22c_row3_col5\" class=\"data row3 col5\" >0.991078</td>\n",
       "      <td id=\"T_3d22c_row3_col6\" class=\"data row3 col6\" >-0.001274</td>\n",
       "      <td id=\"T_3d22c_row3_col7\" class=\"data row3 col7\" >0.107577</td>\n",
       "      <td id=\"T_3d22c_row3_col8\" class=\"data row3 col8\" >-0.008541</td>\n",
       "      <td id=\"T_3d22c_row3_col9\" class=\"data row3 col9\" >0.004129</td>\n",
       "      <td id=\"T_3d22c_row3_col10\" class=\"data row3 col10\" >-0.008889</td>\n",
       "      <td id=\"T_3d22c_row3_col11\" class=\"data row3 col11\" >nan</td>\n",
       "      <td id=\"T_3d22c_row3_col12\" class=\"data row3 col12\" >-0.004801</td>\n",
       "      <td id=\"T_3d22c_row3_col13\" class=\"data row3 col13\" >-0.001787</td>\n",
       "      <td id=\"T_3d22c_row3_col14\" class=\"data row3 col14\" >nan</td>\n",
       "    </tr>\n",
       "    <tr>\n",
       "      <th id=\"T_3d22c_level0_row4\" class=\"row_heading level0 row4\" >dropoff_longitude</th>\n",
       "      <td id=\"T_3d22c_row4_col0\" class=\"data row4 col0\" >0.005448</td>\n",
       "      <td id=\"T_3d22c_row4_col1\" class=\"data row4 col1\" >0.005623</td>\n",
       "      <td id=\"T_3d22c_row4_col2\" class=\"data row4 col2\" >0.999992</td>\n",
       "      <td id=\"T_3d22c_row4_col3\" class=\"data row4 col3\" >-0.973211</td>\n",
       "      <td id=\"T_3d22c_row4_col4\" class=\"data row4 col4\" >1.000000</td>\n",
       "      <td id=\"T_3d22c_row4_col5\" class=\"data row4 col5\" >-0.981945</td>\n",
       "      <td id=\"T_3d22c_row4_col6\" class=\"data row4 col6\" >-0.000563</td>\n",
       "      <td id=\"T_3d22c_row4_col7\" class=\"data row4 col7\" >-0.113572</td>\n",
       "      <td id=\"T_3d22c_row4_col8\" class=\"data row4 col8\" >0.005946</td>\n",
       "      <td id=\"T_3d22c_row4_col9\" class=\"data row4 col9\" >-0.002691</td>\n",
       "      <td id=\"T_3d22c_row4_col10\" class=\"data row4 col10\" >0.005298</td>\n",
       "      <td id=\"T_3d22c_row4_col11\" class=\"data row4 col11\" >nan</td>\n",
       "      <td id=\"T_3d22c_row4_col12\" class=\"data row4 col12\" >0.003099</td>\n",
       "      <td id=\"T_3d22c_row4_col13\" class=\"data row4 col13\" >0.001278</td>\n",
       "      <td id=\"T_3d22c_row4_col14\" class=\"data row4 col14\" >nan</td>\n",
       "    </tr>\n",
       "    <tr>\n",
       "      <th id=\"T_3d22c_level0_row5\" class=\"row_heading level0 row5\" >dropoff_latitude</th>\n",
       "      <td id=\"T_3d22c_row5_col0\" class=\"data row5 col0\" >-0.006083</td>\n",
       "      <td id=\"T_3d22c_row5_col1\" class=\"data row5 col1\" >-0.008132</td>\n",
       "      <td id=\"T_3d22c_row5_col2\" class=\"data row5 col2\" >-0.981944</td>\n",
       "      <td id=\"T_3d22c_row5_col3\" class=\"data row5 col3\" >0.991078</td>\n",
       "      <td id=\"T_3d22c_row5_col4\" class=\"data row5 col4\" >-0.981945</td>\n",
       "      <td id=\"T_3d22c_row5_col5\" class=\"data row5 col5\" >1.000000</td>\n",
       "      <td id=\"T_3d22c_row5_col6\" class=\"data row5 col6\" >-0.001119</td>\n",
       "      <td id=\"T_3d22c_row5_col7\" class=\"data row5 col7\" >0.106248</td>\n",
       "      <td id=\"T_3d22c_row5_col8\" class=\"data row5 col8\" >-0.008625</td>\n",
       "      <td id=\"T_3d22c_row5_col9\" class=\"data row5 col9\" >0.004174</td>\n",
       "      <td id=\"T_3d22c_row5_col10\" class=\"data row5 col10\" >-0.008890</td>\n",
       "      <td id=\"T_3d22c_row5_col11\" class=\"data row5 col11\" >nan</td>\n",
       "      <td id=\"T_3d22c_row5_col12\" class=\"data row5 col12\" >-0.004666</td>\n",
       "      <td id=\"T_3d22c_row5_col13\" class=\"data row5 col13\" >-0.001422</td>\n",
       "      <td id=\"T_3d22c_row5_col14\" class=\"data row5 col14\" >nan</td>\n",
       "    </tr>\n",
       "    <tr>\n",
       "      <th id=\"T_3d22c_level0_row6\" class=\"row_heading level0 row6\" >passenger_count</th>\n",
       "      <td id=\"T_3d22c_row6_col0\" class=\"data row6 col0\" >0.011361</td>\n",
       "      <td id=\"T_3d22c_row6_col1\" class=\"data row6 col1\" >0.006473</td>\n",
       "      <td id=\"T_3d22c_row6_col2\" class=\"data row6 col2\" >-0.000561</td>\n",
       "      <td id=\"T_3d22c_row6_col3\" class=\"data row6 col3\" >-0.001274</td>\n",
       "      <td id=\"T_3d22c_row6_col4\" class=\"data row6 col4\" >-0.000563</td>\n",
       "      <td id=\"T_3d22c_row6_col5\" class=\"data row6 col5\" >-0.001119</td>\n",
       "      <td id=\"T_3d22c_row6_col6\" class=\"data row6 col6\" >1.000000</td>\n",
       "      <td id=\"T_3d22c_row6_col7\" class=\"data row6 col7\" >0.006691</td>\n",
       "      <td id=\"T_3d22c_row6_col8\" class=\"data row6 col8\" >0.004861</td>\n",
       "      <td id=\"T_3d22c_row6_col9\" class=\"data row6 col9\" >0.009881</td>\n",
       "      <td id=\"T_3d22c_row6_col10\" class=\"data row6 col10\" >0.003137</td>\n",
       "      <td id=\"T_3d22c_row6_col11\" class=\"data row6 col11\" >nan</td>\n",
       "      <td id=\"T_3d22c_row6_col12\" class=\"data row6 col12\" >0.033391</td>\n",
       "      <td id=\"T_3d22c_row6_col13\" class=\"data row6 col13\" >0.013199</td>\n",
       "      <td id=\"T_3d22c_row6_col14\" class=\"data row6 col14\" >nan</td>\n",
       "    </tr>\n",
       "    <tr>\n",
       "      <th id=\"T_3d22c_level0_row7\" class=\"row_heading level0 row7\" >distance_km</th>\n",
       "      <td id=\"T_3d22c_row7_col0\" class=\"data row7 col0\" >0.830414</td>\n",
       "      <td id=\"T_3d22c_row7_col1\" class=\"data row7 col1\" >0.026186</td>\n",
       "      <td id=\"T_3d22c_row7_col2\" class=\"data row7 col2\" >-0.113318</td>\n",
       "      <td id=\"T_3d22c_row7_col3\" class=\"data row7 col3\" >0.107577</td>\n",
       "      <td id=\"T_3d22c_row7_col4\" class=\"data row7 col4\" >-0.113572</td>\n",
       "      <td id=\"T_3d22c_row7_col5\" class=\"data row7 col5\" >0.106248</td>\n",
       "      <td id=\"T_3d22c_row7_col6\" class=\"data row7 col6\" >0.006691</td>\n",
       "      <td id=\"T_3d22c_row7_col7\" class=\"data row7 col7\" >1.000000</td>\n",
       "      <td id=\"T_3d22c_row7_col8\" class=\"data row7 col8\" >0.024287</td>\n",
       "      <td id=\"T_3d22c_row7_col9\" class=\"data row7 col9\" >0.011351</td>\n",
       "      <td id=\"T_3d22c_row7_col10\" class=\"data row7 col10\" >0.000568</td>\n",
       "      <td id=\"T_3d22c_row7_col11\" class=\"data row7 col11\" >nan</td>\n",
       "      <td id=\"T_3d22c_row7_col12\" class=\"data row7 col12\" >0.016425</td>\n",
       "      <td id=\"T_3d22c_row7_col13\" class=\"data row7 col13\" >-0.030268</td>\n",
       "      <td id=\"T_3d22c_row7_col14\" class=\"data row7 col14\" >nan</td>\n",
       "    </tr>\n",
       "    <tr>\n",
       "      <th id=\"T_3d22c_level0_row8\" class=\"row_heading level0 row8\" >Year</th>\n",
       "      <td id=\"T_3d22c_row8_col0\" class=\"data row8 col0\" >0.120881</td>\n",
       "      <td id=\"T_3d22c_row8_col1\" class=\"data row8 col1\" >0.987982</td>\n",
       "      <td id=\"T_3d22c_row8_col2\" class=\"data row8 col2\" >0.005973</td>\n",
       "      <td id=\"T_3d22c_row8_col3\" class=\"data row8 col3\" >-0.008541</td>\n",
       "      <td id=\"T_3d22c_row8_col4\" class=\"data row8 col4\" >0.005946</td>\n",
       "      <td id=\"T_3d22c_row8_col5\" class=\"data row8 col5\" >-0.008625</td>\n",
       "      <td id=\"T_3d22c_row8_col6\" class=\"data row8 col6\" >0.004861</td>\n",
       "      <td id=\"T_3d22c_row8_col7\" class=\"data row8 col7\" >0.024287</td>\n",
       "      <td id=\"T_3d22c_row8_col8\" class=\"data row8 col8\" >1.000000</td>\n",
       "      <td id=\"T_3d22c_row8_col9\" class=\"data row8 col9\" >-0.115909</td>\n",
       "      <td id=\"T_3d22c_row8_col10\" class=\"data row8 col10\" >-0.012141</td>\n",
       "      <td id=\"T_3d22c_row8_col11\" class=\"data row8 col11\" >nan</td>\n",
       "      <td id=\"T_3d22c_row8_col12\" class=\"data row8 col12\" >0.006018</td>\n",
       "      <td id=\"T_3d22c_row8_col13\" class=\"data row8 col13\" >0.002168</td>\n",
       "      <td id=\"T_3d22c_row8_col14\" class=\"data row8 col14\" >nan</td>\n",
       "    </tr>\n",
       "    <tr>\n",
       "      <th id=\"T_3d22c_level0_row9\" class=\"row_heading level0 row9\" >Month</th>\n",
       "      <td id=\"T_3d22c_row9_col0\" class=\"data row9 col0\" >0.024043</td>\n",
       "      <td id=\"T_3d22c_row9_col1\" class=\"data row9 col1\" >0.038472</td>\n",
       "      <td id=\"T_3d22c_row9_col2\" class=\"data row9 col2\" >-0.002700</td>\n",
       "      <td id=\"T_3d22c_row9_col3\" class=\"data row9 col3\" >0.004129</td>\n",
       "      <td id=\"T_3d22c_row9_col4\" class=\"data row9 col4\" >-0.002691</td>\n",
       "      <td id=\"T_3d22c_row9_col5\" class=\"data row9 col5\" >0.004174</td>\n",
       "      <td id=\"T_3d22c_row9_col6\" class=\"data row9 col6\" >0.009881</td>\n",
       "      <td id=\"T_3d22c_row9_col7\" class=\"data row9 col7\" >0.011351</td>\n",
       "      <td id=\"T_3d22c_row9_col8\" class=\"data row9 col8\" >-0.115909</td>\n",
       "      <td id=\"T_3d22c_row9_col9\" class=\"data row9 col9\" >1.000000</td>\n",
       "      <td id=\"T_3d22c_row9_col10\" class=\"data row9 col10\" >-0.017323</td>\n",
       "      <td id=\"T_3d22c_row9_col11\" class=\"data row9 col11\" >nan</td>\n",
       "      <td id=\"T_3d22c_row9_col12\" class=\"data row9 col12\" >-0.008790</td>\n",
       "      <td id=\"T_3d22c_row9_col13\" class=\"data row9 col13\" >-0.003995</td>\n",
       "      <td id=\"T_3d22c_row9_col14\" class=\"data row9 col14\" >nan</td>\n",
       "    </tr>\n",
       "    <tr>\n",
       "      <th id=\"T_3d22c_level0_row10\" class=\"row_heading level0 row10\" >Day</th>\n",
       "      <td id=\"T_3d22c_row10_col0\" class=\"data row10 col0\" >0.001100</td>\n",
       "      <td id=\"T_3d22c_row10_col1\" class=\"data row10 col1\" >-0.002038</td>\n",
       "      <td id=\"T_3d22c_row10_col2\" class=\"data row10 col2\" >0.005291</td>\n",
       "      <td id=\"T_3d22c_row10_col3\" class=\"data row10 col3\" >-0.008889</td>\n",
       "      <td id=\"T_3d22c_row10_col4\" class=\"data row10 col4\" >0.005298</td>\n",
       "      <td id=\"T_3d22c_row10_col5\" class=\"data row10 col5\" >-0.008890</td>\n",
       "      <td id=\"T_3d22c_row10_col6\" class=\"data row10 col6\" >0.003137</td>\n",
       "      <td id=\"T_3d22c_row10_col7\" class=\"data row10 col7\" >0.000568</td>\n",
       "      <td id=\"T_3d22c_row10_col8\" class=\"data row10 col8\" >-0.012141</td>\n",
       "      <td id=\"T_3d22c_row10_col9\" class=\"data row10 col9\" >-0.017323</td>\n",
       "      <td id=\"T_3d22c_row10_col10\" class=\"data row10 col10\" >1.000000</td>\n",
       "      <td id=\"T_3d22c_row10_col11\" class=\"data row10 col11\" >nan</td>\n",
       "      <td id=\"T_3d22c_row10_col12\" class=\"data row10 col12\" >0.005545</td>\n",
       "      <td id=\"T_3d22c_row10_col13\" class=\"data row10 col13\" >0.004857</td>\n",
       "      <td id=\"T_3d22c_row10_col14\" class=\"data row10 col14\" >nan</td>\n",
       "    </tr>\n",
       "    <tr>\n",
       "      <th id=\"T_3d22c_level0_row11\" class=\"row_heading level0 row11\" >Day of Week</th>\n",
       "      <td id=\"T_3d22c_row11_col0\" class=\"data row11 col0\" >nan</td>\n",
       "      <td id=\"T_3d22c_row11_col1\" class=\"data row11 col1\" >nan</td>\n",
       "      <td id=\"T_3d22c_row11_col2\" class=\"data row11 col2\" >nan</td>\n",
       "      <td id=\"T_3d22c_row11_col3\" class=\"data row11 col3\" >nan</td>\n",
       "      <td id=\"T_3d22c_row11_col4\" class=\"data row11 col4\" >nan</td>\n",
       "      <td id=\"T_3d22c_row11_col5\" class=\"data row11 col5\" >nan</td>\n",
       "      <td id=\"T_3d22c_row11_col6\" class=\"data row11 col6\" >nan</td>\n",
       "      <td id=\"T_3d22c_row11_col7\" class=\"data row11 col7\" >nan</td>\n",
       "      <td id=\"T_3d22c_row11_col8\" class=\"data row11 col8\" >nan</td>\n",
       "      <td id=\"T_3d22c_row11_col9\" class=\"data row11 col9\" >nan</td>\n",
       "      <td id=\"T_3d22c_row11_col10\" class=\"data row11 col10\" >nan</td>\n",
       "      <td id=\"T_3d22c_row11_col11\" class=\"data row11 col11\" >nan</td>\n",
       "      <td id=\"T_3d22c_row11_col12\" class=\"data row11 col12\" >nan</td>\n",
       "      <td id=\"T_3d22c_row11_col13\" class=\"data row11 col13\" >nan</td>\n",
       "      <td id=\"T_3d22c_row11_col14\" class=\"data row11 col14\" >nan</td>\n",
       "    </tr>\n",
       "    <tr>\n",
       "      <th id=\"T_3d22c_level0_row12\" class=\"row_heading level0 row12\" >Day of Week_num</th>\n",
       "      <td id=\"T_3d22c_row12_col0\" class=\"data row12 col0\" >0.006544</td>\n",
       "      <td id=\"T_3d22c_row12_col1\" class=\"data row12 col1\" >0.004738</td>\n",
       "      <td id=\"T_3d22c_row12_col2\" class=\"data row12 col2\" >0.003024</td>\n",
       "      <td id=\"T_3d22c_row12_col3\" class=\"data row12 col3\" >-0.004801</td>\n",
       "      <td id=\"T_3d22c_row12_col4\" class=\"data row12 col4\" >0.003099</td>\n",
       "      <td id=\"T_3d22c_row12_col5\" class=\"data row12 col5\" >-0.004666</td>\n",
       "      <td id=\"T_3d22c_row12_col6\" class=\"data row12 col6\" >0.033391</td>\n",
       "      <td id=\"T_3d22c_row12_col7\" class=\"data row12 col7\" >0.016425</td>\n",
       "      <td id=\"T_3d22c_row12_col8\" class=\"data row12 col8\" >0.006018</td>\n",
       "      <td id=\"T_3d22c_row12_col9\" class=\"data row12 col9\" >-0.008790</td>\n",
       "      <td id=\"T_3d22c_row12_col10\" class=\"data row12 col10\" >0.005545</td>\n",
       "      <td id=\"T_3d22c_row12_col11\" class=\"data row12 col11\" >nan</td>\n",
       "      <td id=\"T_3d22c_row12_col12\" class=\"data row12 col12\" >1.000000</td>\n",
       "      <td id=\"T_3d22c_row12_col13\" class=\"data row12 col13\" >-0.086988</td>\n",
       "      <td id=\"T_3d22c_row12_col14\" class=\"data row12 col14\" >nan</td>\n",
       "    </tr>\n",
       "    <tr>\n",
       "      <th id=\"T_3d22c_level0_row13\" class=\"row_heading level0 row13\" >Hour</th>\n",
       "      <td id=\"T_3d22c_row13_col0\" class=\"data row13 col0\" >-0.020587</td>\n",
       "      <td id=\"T_3d22c_row13_col1\" class=\"data row13 col1\" >0.002027</td>\n",
       "      <td id=\"T_3d22c_row13_col2\" class=\"data row13 col2\" >0.001508</td>\n",
       "      <td id=\"T_3d22c_row13_col3\" class=\"data row13 col3\" >-0.001787</td>\n",
       "      <td id=\"T_3d22c_row13_col4\" class=\"data row13 col4\" >0.001278</td>\n",
       "      <td id=\"T_3d22c_row13_col5\" class=\"data row13 col5\" >-0.001422</td>\n",
       "      <td id=\"T_3d22c_row13_col6\" class=\"data row13 col6\" >0.013199</td>\n",
       "      <td id=\"T_3d22c_row13_col7\" class=\"data row13 col7\" >-0.030268</td>\n",
       "      <td id=\"T_3d22c_row13_col8\" class=\"data row13 col8\" >0.002168</td>\n",
       "      <td id=\"T_3d22c_row13_col9\" class=\"data row13 col9\" >-0.003995</td>\n",
       "      <td id=\"T_3d22c_row13_col10\" class=\"data row13 col10\" >0.004857</td>\n",
       "      <td id=\"T_3d22c_row13_col11\" class=\"data row13 col11\" >nan</td>\n",
       "      <td id=\"T_3d22c_row13_col12\" class=\"data row13 col12\" >-0.086988</td>\n",
       "      <td id=\"T_3d22c_row13_col13\" class=\"data row13 col13\" >1.000000</td>\n",
       "      <td id=\"T_3d22c_row13_col14\" class=\"data row13 col14\" >nan</td>\n",
       "    </tr>\n",
       "    <tr>\n",
       "      <th id=\"T_3d22c_level0_row14\" class=\"row_heading level0 row14\" >counter</th>\n",
       "      <td id=\"T_3d22c_row14_col0\" class=\"data row14 col0\" >nan</td>\n",
       "      <td id=\"T_3d22c_row14_col1\" class=\"data row14 col1\" >nan</td>\n",
       "      <td id=\"T_3d22c_row14_col2\" class=\"data row14 col2\" >nan</td>\n",
       "      <td id=\"T_3d22c_row14_col3\" class=\"data row14 col3\" >nan</td>\n",
       "      <td id=\"T_3d22c_row14_col4\" class=\"data row14 col4\" >nan</td>\n",
       "      <td id=\"T_3d22c_row14_col5\" class=\"data row14 col5\" >nan</td>\n",
       "      <td id=\"T_3d22c_row14_col6\" class=\"data row14 col6\" >nan</td>\n",
       "      <td id=\"T_3d22c_row14_col7\" class=\"data row14 col7\" >nan</td>\n",
       "      <td id=\"T_3d22c_row14_col8\" class=\"data row14 col8\" >nan</td>\n",
       "      <td id=\"T_3d22c_row14_col9\" class=\"data row14 col9\" >nan</td>\n",
       "      <td id=\"T_3d22c_row14_col10\" class=\"data row14 col10\" >nan</td>\n",
       "      <td id=\"T_3d22c_row14_col11\" class=\"data row14 col11\" >nan</td>\n",
       "      <td id=\"T_3d22c_row14_col12\" class=\"data row14 col12\" >nan</td>\n",
       "      <td id=\"T_3d22c_row14_col13\" class=\"data row14 col13\" >nan</td>\n",
       "      <td id=\"T_3d22c_row14_col14\" class=\"data row14 col14\" >nan</td>\n",
       "    </tr>\n",
       "  </tbody>\n",
       "</table>\n"
      ],
      "text/plain": [
       "<pandas.io.formats.style.Styler at 0x17bb69a80d0>"
      ]
     },
     "execution_count": 70,
     "metadata": {},
     "output_type": "execute_result"
    }
   ],
   "source": [
    "corr = df.corr()\n",
    "\n",
    "corr.style.background_gradient(cmap='BuGn')"
   ]
  },
  {
   "cell_type": "markdown",
   "metadata": {},
   "source": [
    "**Standardization**\n",
    "For more accurate results on our linear regression model\n",
    "\n",
    "Assigning the dependent and independent variable"
   ]
  },
  {
   "cell_type": "code",
   "execution_count": 71,
   "metadata": {},
   "outputs": [],
   "source": [
    "X = df['distance_km'].values.reshape(-1, 1)        #Independent Variable\n",
    "y = df['fare_amount'].values.reshape(-1, 1)     #Dependent Variable"
   ]
  },
  {
   "cell_type": "code",
   "execution_count": 72,
   "metadata": {},
   "outputs": [
    {
     "name": "stdout",
     "output_type": "stream",
     "text": [
      "[[-0.39728234]\n",
      " [-0.37650815]\n",
      " [ 0.16362071]\n",
      " ...\n",
      " [ 2.03329752]\n",
      " [ 0.3298142 ]\n",
      " [ 0.28826583]]\n",
      "[[-0.42603824]\n",
      " [-0.21778569]\n",
      " [ 0.47582381]\n",
      " ...\n",
      " [ 2.57751879]\n",
      " [ 0.07327072]\n",
      " [ 0.57840964]]\n"
     ]
    }
   ],
   "source": [
    "from sklearn.preprocessing import StandardScaler\n",
    "std = StandardScaler()\n",
    "y_std = std.fit_transform(y)\n",
    "print(y_std)\n",
    "\n",
    "x_std = std.fit_transform(X)\n",
    "print(x_std)"
   ]
  },
  {
   "cell_type": "code",
   "execution_count": 73,
   "metadata": {},
   "outputs": [],
   "source": [
    "#Splitting dataset\n",
    "from sklearn.model_selection import train_test_split\n",
    "X_train, X_test, y_train, y_test = train_test_split(x_std, y_std, test_size=0.2, random_state=0)"
   ]
  },
  {
   "cell_type": "markdown",
   "metadata": {},
   "source": [
    "**Simple Linear Regression**"
   ]
  },
  {
   "cell_type": "code",
   "execution_count": 74,
   "metadata": {},
   "outputs": [
    {
     "name": "stdout",
     "output_type": "stream",
     "text": [
      "Training set score: 0.69\n",
      "Test set score: 0.6883117\n"
     ]
    }
   ],
   "source": [
    "from sklearn.linear_model import LinearRegression\n",
    "l_reg = LinearRegression()\n",
    "l_reg.fit(X_train, y_train)\n",
    "\n",
    "print(\"Training set score: {:.2f}\".format(l_reg.score(X_train, y_train)))\n",
    "print(\"Test set score: {:.7f}\".format(l_reg.score(X_test, y_test)))"
   ]
  },
  {
   "cell_type": "code",
   "execution_count": 81,
   "metadata": {},
   "outputs": [],
   "source": [
    "# Flatten nested lists or multi-dimensional arrays\n",
    "y_test = np.array(y_test).flatten()\n",
    "y_pred = np.array(y_pred).flatten()"
   ]
  },
  {
   "cell_type": "code",
   "execution_count": 83,
   "metadata": {},
   "outputs": [],
   "source": [
    "#Actual vs Predicted Values\n",
    "\n",
    "y_pred = l_reg.predict(X_test)\n",
    "y_test = np.array(y_test).flatten()\n",
    "y_pred = np.array(y_pred).flatten()\n",
    "df_1 = {'Actual': y_test, 'Predicted': y_pred}\n",
    "df_2 = pd.DataFrame(df_1)"
   ]
  },
  {
   "cell_type": "code",
   "execution_count": 84,
   "metadata": {},
   "outputs": [
    {
     "data": {
      "text/html": [
       "<div>\n",
       "<style scoped>\n",
       "    .dataframe tbody tr th:only-of-type {\n",
       "        vertical-align: middle;\n",
       "    }\n",
       "\n",
       "    .dataframe tbody tr th {\n",
       "        vertical-align: top;\n",
       "    }\n",
       "\n",
       "    .dataframe thead th {\n",
       "        text-align: right;\n",
       "    }\n",
       "</style>\n",
       "<table border=\"1\" class=\"dataframe\">\n",
       "  <thead>\n",
       "    <tr style=\"text-align: right;\">\n",
       "      <th></th>\n",
       "      <th>Actual</th>\n",
       "      <th>Predicted</th>\n",
       "    </tr>\n",
       "  </thead>\n",
       "  <tbody>\n",
       "    <tr>\n",
       "      <th>0</th>\n",
       "      <td>-0.085670</td>\n",
       "      <td>0.038672</td>\n",
       "    </tr>\n",
       "    <tr>\n",
       "      <th>1</th>\n",
       "      <td>0.122072</td>\n",
       "      <td>0.274752</td>\n",
       "    </tr>\n",
       "    <tr>\n",
       "      <th>2</th>\n",
       "      <td>0.225943</td>\n",
       "      <td>0.242573</td>\n",
       "    </tr>\n",
       "    <tr>\n",
       "      <th>3</th>\n",
       "      <td>0.122072</td>\n",
       "      <td>0.087918</td>\n",
       "    </tr>\n",
       "    <tr>\n",
       "      <th>4</th>\n",
       "      <td>-0.501153</td>\n",
       "      <td>-0.388759</td>\n",
       "    </tr>\n",
       "  </tbody>\n",
       "</table>\n",
       "</div>"
      ],
      "text/plain": [
       "     Actual  Predicted\n",
       "0 -0.085670   0.038672\n",
       "1  0.122072   0.274752\n",
       "2  0.225943   0.242573\n",
       "3  0.122072   0.087918\n",
       "4 -0.501153  -0.388759"
      ]
     },
     "execution_count": 84,
     "metadata": {},
     "output_type": "execute_result"
    }
   ],
   "source": [
    "df_2.head()"
   ]
  },
  {
   "cell_type": "markdown",
   "metadata": {},
   "source": [
    "**Accuracy Checking**\n",
    "Finding the MSE,MAE, RMSE, etc."
   ]
  },
  {
   "cell_type": "code",
   "execution_count": 85,
   "metadata": {},
   "outputs": [
    {
     "name": "stdout",
     "output_type": "stream",
     "text": [
      "Mean Absolute Error: 0.27460322438299567\n",
      "Mean Squared Error: 0.3117811530797184\n",
      "Root Mean Squared Error: 0.5583736679677135\n"
     ]
    }
   ],
   "source": [
    "from sklearn import metrics\n",
    "print('Mean Absolute Error:', metrics.mean_absolute_error(y_test, y_pred))\n",
    "#print('Mean Absolute % Error:', metrics.mean_absolute_percentage_error(y_test, y_pred))\n",
    "print('Mean Squared Error:', metrics.mean_squared_error(y_test, y_pred))\n",
    "print('Root Mean Squared Error:', np.sqrt(metrics.mean_squared_error(y_test, y_pred)))"
   ]
  },
  {
   "cell_type": "code",
   "execution_count": 86,
   "metadata": {},
   "outputs": [
    {
     "name": "stdout",
     "output_type": "stream",
     "text": [
      "[-0.00037819]\n",
      "[[0.83087802]]\n"
     ]
    }
   ],
   "source": [
    "print(l_reg.intercept_)\n",
    "print(l_reg.coef_)"
   ]
  },
  {
   "cell_type": "markdown",
   "metadata": {},
   "source": [
    "**Plotting the Graph**"
   ]
  },
  {
   "cell_type": "code",
   "execution_count": 87,
   "metadata": {},
   "outputs": [
    {
     "data": {
      "image/png": "[encoded data removed]",
      "text/plain": [
       "<Figure size 640x480 with 2 Axes>"
      ]
     },
     "metadata": {},
     "output_type": "display_data"
    }
   ],
   "source": [
    "plt.subplot(2, 2, 1)\n",
    "plt.scatter(X_train, y_train, color = 'red')\n",
    "plt.plot(X_train, l_reg.predict(X_train), color =\"blue\")\n",
    "plt.title(\"Fare vs Distance (Training Set)\")\n",
    "plt.ylabel(\"fare_amount\")\n",
    "plt.xlabel(\"Distance\")\n",
    "\n",
    "plt.subplot(2, 2, 2)\n",
    "plt.scatter(X_test, y_test, color = 'red')\n",
    "plt.plot(X_train, l_reg.predict(X_train), color =\"blue\")\n",
    "plt.ylabel(\"fare_amount\")\n",
    "plt.xlabel(\"Distance\")\n",
    "plt.title(\"Fare vs Distance (Test Set)\")\n",
    "\n",
    "\n",
    "plt.tight_layout()\n",
    "plt.rcParams[\"figure.figsize\"] = (32,22)\n",
    "plt.show()"
   ]
  },
  {
   "cell_type": "code",
   "execution_count": 90,
   "metadata": {},
   "outputs": [
    {
     "data": {
      "text/plain": [
       "array([[0.19867003]])"
      ]
     },
     "execution_count": 90,
     "metadata": {},
     "output_type": "execute_result"
    }
   ],
   "source": [
    "prediction = l_reg.predict(X_train[10].reshape(1, -1))\n",
    "prediction"
   ]
  },
  {
   "cell_type": "code",
   "execution_count": 93,
   "metadata": {},
   "outputs": [
    {
     "name": "stdout",
     "output_type": "stream",
     "text": [
      "R-squared: 0.6883117214852594\n"
     ]
    }
   ],
   "source": [
    "from sklearn.metrics import r2_score\n",
    "\n",
    "# Assuming y_test and y_pred are your actual and predicted values, respectively\n",
    "r_squared = r2_score(y_test, y_pred)\n",
    "\n",
    "print(f'R-squared: {r_squared}')"
   ]
  },
  {
   "cell_type": "code",
   "execution_count": null,
   "metadata": {},
   "outputs": [],
   "source": []
  }
 ],
 "metadata": {
  "kernelspec": {
   "display_name": "Python 3",
   "language": "python",
   "name": "python3"
  },
  "language_info": {
   "codemirror_mode": {
    "name": "ipython",
    "version": 3
   },
   "file_extension": ".py",
   "mimetype": "text/x-python",
   "name": "python",
   "nbconvert_exporter": "python",
   "pygments_lexer": "ipython3",
   "version": "3.11.6"
  }
 },
 "nbformat": 4,
 "nbformat_minor": 2
}
